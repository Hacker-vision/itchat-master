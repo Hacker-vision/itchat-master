{
 "cells": [
   
  {
   "cell_type": "code",
   "execution_count": null,
   "metadata": {
    "scrolled": true
   },
   "outputs": [
    {
     "name": "stdout",
     "output_type": "stream",
     "text": [
      "█\r"
     ]
    },
    {
     "name": "stderr",
     "output_type": "stream",
     "text": [
      "Getting uuid of QR code.\n",
      "Downloading QR code.\n",
      "Please scan the QR code to log in.\n",
      "Please press confirm on your phone.\n",
      "Loading the contact, this may take a little while.\n"
     ]
    },
    {
     "name": "stdout",
     "output_type": "stream",
     "text": [
      "Login Successfully\n",
      "Start : Fri Feb 16 17:59:04 2018\n"
     ]
    },
    {
     "name": "stderr",
     "output_type": "stream",
     "text": [
      "Start auto replying.\n"
     ]
    },
    {
     "name": "stdout",
     "output_type": "stream",
     "text": [
      "5\n",
      "4\n",
      "3\n",
      "2\n",
      "1\n",
      "[狗]年快乐！[红包]\n",
      "我是主人最近研制的机器人——狗子.今年是我的本命年，能认识我主人的都是狗子的朋友，祝福亲在新的一年里发大财，走狗运[微笑].主人正在回来的路上,我会把你的祝福转告主人哒，谢谢亲！🙏\n",
      "如果你想跟狗子交朋友，麻烦你发送我主人的名字给我[微笑]\n"
     ]
    }
   ],
   "source": [
    "# -*- coding: utf-8 -*-\n",
    "\"\"\"\n",
    "Created on Tue Feb 13 11:37:58 2018\n",
    "\n",
    "@Author: Kang Sun\n",
    "@E-mail: ajksunkang@pku.edu.cn\n",
    "\n",
    "Reference: https://segmentfault.com/a/1190000009420701\n",
    "\"\"\"\n",
    "import itchat,time,sys,random\n",
    "from itchat.content import *\n",
    "\n",
    "WishList=[u\"[狗]：哼，我去跟主人说，你是坏人[皱眉]！\",u\"[狗]：狗子祝亲新春快乐，出门走狗运[微笑]！\",u\"[狗]:新年到，狗运来[皱眉]\",\\\n",
    "          u\"[狗]：过年记得贴对联、贴门神和福字哦~[红包]\",u\"[狗]：要过节了,主人明天给我吃点什么呢？~\",u\"[狗]:听说主人养的蛙萌萌哒！😳\",\\\n",
    "          u\"[狗]：新年你要天天向上哦~\",u\"[狗]：财神除夕到，祝亲钱袋鼓鼓哒！\",u\"[狗]：过年咯，过年咯~\",u\"[狗]：过完年后又要减肥呢~\",\\\n",
    "          u\"[狗]：咱过年不用来点压岁钱，给点吃的就行~\",u\"[狗]：祝你新年新气象，财到福气旺！\",\\\n",
    "          u\"[狗]：初春雪漫漫，人间处处新，祝亲新年幸福!\",u\"[狗]：爆竹一声除旧岁，好运旺旺迎新年！\"]\n",
    "\n",
    "def lc(): #login callback\n",
    "    print(\"Login Successfully\")\n",
    "    print(\"Start : %s\" % time.ctime())\n",
    "def ec(): #exit callback\n",
    "    print(\"Logout Successfully\")\n",
    "    print(\"End : %s\" % time.ctime())\n",
    "\n",
    "def first_reply(msg): \n",
    "    for count in range(5,0,-1):\n",
    "        time.sleep(1)\n",
    "        print(count)\n",
    "        itchat.send_msg(\"%s\" % (str(count)),toUserName = msg['FromUserName'])\n",
    "    string = u\"[狗]年快乐！[红包]\\n我是主人最近研制的机器人——狗子.今年是我的本命年，能认识我主人的都是狗子的朋友，\\\n",
    "祝福亲在新的一年里发大财，走狗运[微笑].主人正在回来的路上,我会把你的祝福转告主人哒，谢谢亲！🙏\"\n",
    "    print(string)\n",
    "    itchat.send_msg(\"%s\" % (string),toUserName = msg['FromUserName'])\n",
    "    #send本地图片180213-214015.gif\n",
    "    itchat.send('@%s@%s' % ('img','180213-214015.gif'),msg[\"FromUserName\"])\n",
    "    string = u\"如果你想跟狗子交朋友，麻烦你发送我主人的名字给我[微笑]\"\n",
    "    print(string)\n",
    "    itchat.send_msg(\"%s\" % (string),toUserName = msg['FromUserName'])\n",
    "    \n",
    "def main():\n",
    "    itchat.auto_login(loginCallback=lc,exitCallback=ec)  #使用QR-Code登录你的微信\n",
    "    friendList = itchat.get_friends(update=True)        #获取通讯录好友列表\n",
    "    terms=[0]*len(friendList)\n",
    "    userList = []\n",
    "    for f in friendList:\n",
    "        userList.append(f['UserName'])\n",
    "    def auto_reply():\n",
    "        #这是是侦听是否有发送者发送消息\n",
    "        @itchat.msg_register([TEXT, PICTURE, FRIENDS, CARD, MAP, SHARING, RECORDING, ATTACHMENT, VIDEO],isFriendChat=True)\n",
    "        def simple_reply(msg):    \n",
    "            msg_content = None #存储信息的内容\n",
    "            if terms[userList.index(msg['FromUserName'])] == 0:#第一次对话\n",
    "                terms[userList.index(msg['FromUserName'])] = 1;\n",
    "                first_reply(msg)\n",
    "            elif terms[userList.index(msg['FromUserName'])] == 1:#第2次对话\n",
    "                terms[userList.index(msg['FromUserName'])] = terms[userList.index(msg['FromUserName'])] + 1\n",
    "                wish = WishList[0] #第一条\n",
    "                print(wish)\n",
    "                itchat.send_msg('%s' % wish,toUserName = msg['FromUserName'])\n",
    "                itchat.send('@%s@%s' % ('img','180213-155936.gif'),msg[\"FromUserName\"])\n",
    "            elif terms[userList.index(msg['FromUserName'])] == 5:#第2次对话\n",
    "                terms[userList.index(msg['FromUserName'])] = terms[userList.index(msg['FromUserName'])] + 1\n",
    "                itchat.send('@%s@%s' % ('img','180214-214928.png'),msg[\"FromUserName\"])\n",
    "            elif terms[userList.index(msg['FromUserName'])] <= 10: #第3..n次对话\n",
    "                terms[userList.index(msg['FromUserName'])] = terms[userList.index(msg['FromUserName'])] + 1\n",
    "                #如果发送的消息是文本\n",
    "                if msg['Type'] == 'Text' or msg['Type'] == 'Friends':\n",
    "                    msg_content = msg['Text']\n",
    "                    print(msg_content)\n",
    "                    itchat.send_msg('%s' % msg['Text'],toUserName = msg['FromUserName'])  #返回的给对方的消息，msg[\"Text\"]表示消息的内容 \n",
    "                #如果发送的消息是附件、视频、图片、语音\n",
    "                elif msg['Type'] == \"Attachment\" or msg['Type'] == \"Video\" \\\n",
    "                        or msg['Type'] == 'Picture' \\\n",
    "                        or msg['Type'] == 'Recording':\n",
    "                    msg_content = msg['FileName']    #内容就是他们的文件名\n",
    "                    msg['Text'](str(msg_content))    #下载文件\n",
    "                    print (msg_content)\n",
    "                    #将下载的文件发送给发送者\n",
    "                    itchat.send('@%s@%s' % ('img' if msg['Type'] == 'Picture' else 'fil', msg[\"FileName\"]), msg[\"FromUserName\"])\n",
    "                wish = WishList[random.randint(1,len(WishList)-1)] #内容随机\n",
    "                print(wish)\n",
    "                itchat.send_msg('%s' % wish,toUserName = msg['FromUserName'])\n",
    "                #保证计数器从0开始\n",
    "                if terms[userList.index(msg['FromUserName'])] > 10:\n",
    "                    terms[userList.index(msg['FromUserName'])] = 0\n",
    "            else:\n",
    "                print(u\"debug\")\n",
    "    auto_reply()\n",
    "    itchat.run()                                        #运行微信until被其他设备抢占\n",
    "    #itchat.logout()\n",
    "    \n",
    "if __name__==\"__main__\":\n",
    "    main() "
   ]
  },
  {
   "cell_type": "code",
   "execution_count": null,
   "metadata": {
    "collapsed": true
   },
   "outputs": [],
   "source": []
  }
 ],
 "metadata": {
  "kernelspec": {
   "display_name": "Python 3",
   "language": "python",
   "name": "python3"
  },
  "language_info": {
   "codemirror_mode": {
    "name": "ipython",
    "version": 3
   },
   "file_extension": ".py",
   "mimetype": "text/x-python",
   "name": "python",
   "nbconvert_exporter": "python",
   "pygments_lexer": "ipython3",
   "version": "3.6.3"
  }
 },
 "nbformat": 4,
 "nbformat_minor": 2
}
